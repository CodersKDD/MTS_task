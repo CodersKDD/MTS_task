{
 "cells": [
  {
   "cell_type": "code",
   "execution_count": null,
   "metadata": {},
   "outputs": [],
   "source": [
    "from tkinter import *\n",
    "from tkinter import ttk\n",
    "def routine():\n",
    "address = ''\n",
    "\n",
    "def click_button():\n",
    "    global address\n",
    "    address = text.get()\n",
    "    root.destroy()\n",
    "\n",
    "\n",
    "root = Tk()\n",
    "root.title(\"Прогноз резерва\")\n",
    "root.geometry(\"300x250\")\n",
    "\n",
    "label = Label(text=\"Введите полный путь до табличного файла\")\n",
    "label.pack()\n",
    "\n",
    "btn = Button(text=\"Продолжить\", command=click_button)\n",
    "btn.pack(fill=X, side=BOTTOM)\n",
    "\n",
    "text = ttk.Entry()\n",
    "text.pack()\n",
    "\n",
    "\n",
    "\n",
    "root.mainloop()\n",
    "if __name__ == '__main__':\n",
    "    routine()\n",
    "    global address\n",
    "    print(address)"
   ]
  }
 ],
 "metadata": {
  "language_info": {
   "name": "python"
  },
  "orig_nbformat": 4
 },
 "nbformat": 4,
 "nbformat_minor": 2
}
